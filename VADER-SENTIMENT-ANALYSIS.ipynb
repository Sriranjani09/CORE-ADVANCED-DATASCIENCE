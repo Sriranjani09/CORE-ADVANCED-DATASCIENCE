{
 "cells": [
  {
   "cell_type": "markdown",
   "id": "0bcbda69",
   "metadata": {},
   "source": [
    "**Sentiment Analysis [X(twitter)]**"
   ]
  },
  {
   "cell_type": "code",
   "execution_count": 2,
   "id": "8e1d2dd5",
   "metadata": {},
   "outputs": [
    {
     "name": "stdout",
     "output_type": "stream",
     "text": [
      "Requirement already satisfied: wordcloud in c:\\users\\srira\\anaconda3\\envs\\sri\\lib\\site-packages (1.9.4)\n",
      "Requirement already satisfied: numpy>=1.6.1 in c:\\users\\srira\\anaconda3\\envs\\sri\\lib\\site-packages (from wordcloud) (1.23.5)\n",
      "Requirement already satisfied: pillow in c:\\users\\srira\\anaconda3\\envs\\sri\\lib\\site-packages (from wordcloud) (10.2.0)\n",
      "Requirement already satisfied: matplotlib in c:\\users\\srira\\anaconda3\\envs\\sri\\lib\\site-packages (from wordcloud) (3.8.3)\n",
      "Requirement already satisfied: contourpy>=1.0.1 in c:\\users\\srira\\anaconda3\\envs\\sri\\lib\\site-packages (from matplotlib->wordcloud) (1.2.0)\n",
      "Requirement already satisfied: cycler>=0.10 in c:\\users\\srira\\anaconda3\\envs\\sri\\lib\\site-packages (from matplotlib->wordcloud) (0.12.1)\n",
      "Requirement already satisfied: fonttools>=4.22.0 in c:\\users\\srira\\anaconda3\\envs\\sri\\lib\\site-packages (from matplotlib->wordcloud) (4.49.0)\n",
      "Requirement already satisfied: kiwisolver>=1.3.1 in c:\\users\\srira\\anaconda3\\envs\\sri\\lib\\site-packages (from matplotlib->wordcloud) (1.4.5)\n",
      "Requirement already satisfied: packaging>=20.0 in c:\\users\\srira\\anaconda3\\envs\\sri\\lib\\site-packages (from matplotlib->wordcloud) (24.2)\n",
      "Requirement already satisfied: pyparsing>=2.3.1 in c:\\users\\srira\\anaconda3\\envs\\sri\\lib\\site-packages (from matplotlib->wordcloud) (3.1.1)\n",
      "Requirement already satisfied: python-dateutil>=2.7 in c:\\users\\srira\\anaconda3\\envs\\sri\\lib\\site-packages (from matplotlib->wordcloud) (2.9.0.post0)\n",
      "Requirement already satisfied: six>=1.5 in c:\\users\\srira\\anaconda3\\envs\\sri\\lib\\site-packages (from python-dateutil>=2.7->matplotlib->wordcloud) (1.16.0)\n",
      "Note: you may need to restart the kernel to use updated packages.\n"
     ]
    },
    {
     "name": "stderr",
     "output_type": "stream",
     "text": [
      "\n",
      "[notice] A new release of pip is available: 24.2 -> 25.2\n",
      "[notice] To update, run: python.exe -m pip install --upgrade pip\n"
     ]
    }
   ],
   "source": [
    "pip install wordcloud"
   ]
  },
  {
   "cell_type": "code",
   "execution_count": 4,
   "id": "021af8d1",
   "metadata": {},
   "outputs": [
    {
     "name": "stderr",
     "output_type": "stream",
     "text": [
      "[nltk_data] Downloading package vader_lexicon to\n",
      "[nltk_data]     C:\\Users\\srira\\AppData\\Roaming\\nltk_data...\n",
      "[nltk_data]   Package vader_lexicon is already up-to-date!\n"
     ]
    },
    {
     "data": {
      "text/plain": [
       "True"
      ]
     },
     "execution_count": 4,
     "metadata": {},
     "output_type": "execute_result"
    }
   ],
   "source": [
    "import pandas as pd\n",
    "import matplotlib.pyplot as plt\n",
    "import seaborn as sns\n",
    "import re #regular expression\n",
    "from collections import Counter \n",
    "from wordcloud import WordCloud\n",
    "import nltk # natural language toolkit\n",
    "from nltk.sentiment.vader import SentimentIntensityAnalyzer\n",
    "nltk.download('vader_lexicon')\n",
    "\n",
    "\n"
   ]
  },
  {
   "cell_type": "code",
   "execution_count": 5,
   "id": "9b6a45ce",
   "metadata": {},
   "outputs": [
    {
     "name": "stdout",
     "output_type": "stream",
     "text": [
      "shape: (74681, 4)\n"
     ]
    },
    {
     "data": {
      "text/html": [
       "<div>\n",
       "<style scoped>\n",
       "    .dataframe tbody tr th:only-of-type {\n",
       "        vertical-align: middle;\n",
       "    }\n",
       "\n",
       "    .dataframe tbody tr th {\n",
       "        vertical-align: top;\n",
       "    }\n",
       "\n",
       "    .dataframe thead th {\n",
       "        text-align: right;\n",
       "    }\n",
       "</style>\n",
       "<table border=\"1\" class=\"dataframe\">\n",
       "  <thead>\n",
       "    <tr style=\"text-align: right;\">\n",
       "      <th></th>\n",
       "      <th>2401</th>\n",
       "      <th>Borderlands</th>\n",
       "      <th>Positive</th>\n",
       "      <th>im getting on borderlands and i will murder you all ,</th>\n",
       "    </tr>\n",
       "  </thead>\n",
       "  <tbody>\n",
       "    <tr>\n",
       "      <th>0</th>\n",
       "      <td>2401</td>\n",
       "      <td>Borderlands</td>\n",
       "      <td>Positive</td>\n",
       "      <td>I am coming to the borders and I will kill you...</td>\n",
       "    </tr>\n",
       "    <tr>\n",
       "      <th>1</th>\n",
       "      <td>2401</td>\n",
       "      <td>Borderlands</td>\n",
       "      <td>Positive</td>\n",
       "      <td>im getting on borderlands and i will kill you ...</td>\n",
       "    </tr>\n",
       "    <tr>\n",
       "      <th>2</th>\n",
       "      <td>2401</td>\n",
       "      <td>Borderlands</td>\n",
       "      <td>Positive</td>\n",
       "      <td>im coming on borderlands and i will murder you...</td>\n",
       "    </tr>\n",
       "    <tr>\n",
       "      <th>3</th>\n",
       "      <td>2401</td>\n",
       "      <td>Borderlands</td>\n",
       "      <td>Positive</td>\n",
       "      <td>im getting on borderlands 2 and i will murder ...</td>\n",
       "    </tr>\n",
       "    <tr>\n",
       "      <th>4</th>\n",
       "      <td>2401</td>\n",
       "      <td>Borderlands</td>\n",
       "      <td>Positive</td>\n",
       "      <td>im getting into borderlands and i can murder y...</td>\n",
       "    </tr>\n",
       "  </tbody>\n",
       "</table>\n",
       "</div>"
      ],
      "text/plain": [
       "   2401  Borderlands  Positive  \\\n",
       "0  2401  Borderlands  Positive   \n",
       "1  2401  Borderlands  Positive   \n",
       "2  2401  Borderlands  Positive   \n",
       "3  2401  Borderlands  Positive   \n",
       "4  2401  Borderlands  Positive   \n",
       "\n",
       "  im getting on borderlands and i will murder you all ,  \n",
       "0  I am coming to the borders and I will kill you...     \n",
       "1  im getting on borderlands and i will kill you ...     \n",
       "2  im coming on borderlands and i will murder you...     \n",
       "3  im getting on borderlands 2 and i will murder ...     \n",
       "4  im getting into borderlands and i can murder y...     "
      ]
     },
     "execution_count": 5,
     "metadata": {},
     "output_type": "execute_result"
    }
   ],
   "source": [
    "#loading dataset \n",
    "file_path =\"x.csv\"\n",
    "#skip bad rows\n",
    "df=pd.read_csv(file_path,encoding=\"utf8\",on_bad_lines=\"skip\")\n",
    "print(\"shape:\",df.shape)\n",
    "df.head()"
   ]
  },
  {
   "cell_type": "markdown",
   "id": "1116dc6a",
   "metadata": {},
   "source": [
    "**Ensuring text column**"
   ]
  },
  {
   "cell_type": "code",
   "execution_count": 6,
   "id": "1585f2ae",
   "metadata": {},
   "outputs": [],
   "source": [
    "pos_col = [\"Borderlands\",\"Positive\",\"message\",\"Tweet\",\"full_text\",\"message\",\"text\"]\n",
    "text_col = None\n",
    "for c in pos_col:\n",
    "    if c in df.columns:\n",
    "        text_col =c\n",
    "        break\n",
    "if text_col is None:\n",
    "    raise ValueError(f\"Couldn't find text column:{list(df.columns)}\")\n",
    "    df =df.rename(columns={text_col:\"text\"})\n",
    "    df[\"text\"]=df[\"text\"].astype(str)\n",
    "    "
   ]
  },
  {
   "cell_type": "markdown",
   "id": "d18b6e3f",
   "metadata": {},
   "source": [
    "**Cleaning Tweets**"
   ]
  },
  {
   "cell_type": "code",
   "execution_count": 13,
   "id": "3f620631",
   "metadata": {},
   "outputs": [],
   "source": [
    "df =df.rename(columns={text_col:\"text\"})\n",
    "df[\"text\"]=df[\"text\"].astype(str)\n",
    "def clean_tweets(s):\n",
    "    s = re.sub(r\"http\\S+|www\\.\\S+\", \"\", s)   \n",
    "    s = re.sub(r\"@\\w+\", \"\", s)               \n",
    "    s = re.sub(r\"#\", \"\", s)                  \n",
    "    s = re.sub(r\"[^A-Za-z\\s]\", \" \", s)       \n",
    "    s = re.sub(r\"\\s+\", \" \", s).strip()       \n",
    "    return s.lower()                        \n",
    "df[\"cleaned_text\"]=df[\"text\"].apply(clean_tweets)\n",
    "    "
   ]
  },
  {
   "cell_type": "markdown",
   "id": "af9ab7bb",
   "metadata": {},
   "source": [
    "**Removing empty rows**"
   ]
  },
  {
   "cell_type": "code",
   "execution_count": 14,
   "id": "6a265643",
   "metadata": {},
   "outputs": [
    {
     "name": "stdout",
     "output_type": "stream",
     "text": [
      "Kept 32/74681 rows after removing empty & duplicates.\n"
     ]
    }
   ],
   "source": [
    "before = len(df)\n",
    "df = df[df['cleaned_text'].str.len() > 0].copy()\n",
    "df = df.drop_duplicates(subset=['cleaned_text'])\n",
    "after = len(df)\n",
    "print(f\"Kept {after}/{before} rows after removing empty & duplicates.\")\n"
   ]
  },
  {
   "cell_type": "code",
   "execution_count": 17,
   "id": "a94caf07",
   "metadata": {},
   "outputs": [],
   "source": [
    "sia = SentimentIntensityAnalyzer()\n",
    "df['compound'] = df['cleaned_text'].apply(lambda x: sia.polarity_scores(x)['compound'])\n"
   ]
  },
  {
   "cell_type": "code",
   "execution_count": 18,
   "id": "806b2883",
   "metadata": {},
   "outputs": [],
   "source": [
    "def label_sentiment(c):\n",
    "    if c > 0.05: return \"Positive\"\n",
    "    if c < -0.05: return \"Negative\"\n",
    "    return \"Neutral\"\n",
    "df['sentiment'] = df['compound'].apply(label_sentiment)\n"
   ]
  },
  {
   "cell_type": "code",
   "execution_count": 19,
   "id": "73510142",
   "metadata": {},
   "outputs": [],
   "source": [
    "counts = df['sentiment'].value_counts()\n",
    "perc = (counts / counts.sum() * 100).round(1)\n"
   ]
  },
  {
   "cell_type": "code",
   "execution_count": 20,
   "id": "acae85a2",
   "metadata": {},
   "outputs": [
    {
     "data": {
      "text/plain": [
       "<Axes: xlabel='sentiment', ylabel='count'>"
      ]
     },
     "execution_count": 20,
     "metadata": {},
     "output_type": "execute_result"
    },
    {
     "data": {
      "image/png": "[encoded data removed]",
      "text/plain": [
       "<Figure size 640x480 with 1 Axes>"
      ]
     },
     "metadata": {},
     "output_type": "display_data"
    }
   ],
   "source": [
    "sns.countplot(x='sentiment', data=df, order=['Positive','Neutral','Negative'])\n",
    "counts[['Positive','Neutral','Negative']].plot.pie(autopct='%1.1f%%')\n"
   ]
  },
  {
   "cell_type": "code",
   "execution_count": 28,
   "id": "dd3a9d0d",
   "metadata": {},
   "outputs": [],
   "source": [
    "pos_text = \" \".join(df.loc[df['sentiment']=='Positive','cleaned_text']) \n",
    "neg_text = \" \".join(df.loc[df['sentiment']=='Negative','cleaned_text'])"
   ]
  },
  {
   "cell_type": "code",
   "execution_count": 29,
   "id": "17e68e15",
   "metadata": {},
   "outputs": [
    {
     "name": "stdout",
     "output_type": "stream",
     "text": [
      "✅ Done! Saved labeled dataset to: tweets_sentiment_output.csv\n"
     ]
    }
   ],
   "source": [
    "\n",
    "OUT_FILE = \"tweets_sentiment_output.csv\" \n",
    "df.to_csv(OUT_FILE, index=False) \n",
    "print(f\"✅ Done! Saved labeled dataset to: {OUT_FILE}\")"
   ]
  },
  {
   "cell_type": "code",
   "execution_count": null,
   "id": "b8abc166",
   "metadata": {},
   "outputs": [],
   "source": []
  }
 ],
 "metadata": {
  "kernelspec": {
   "display_name": "Python 3 (ipykernel)",
   "language": "python",
   "name": "python3"
  },
  "language_info": {
   "codemirror_mode": {
    "name": "ipython",
    "version": 3
   },
   "file_extension": ".py",
   "mimetype": "text/x-python",
   "name": "python",
   "nbconvert_exporter": "python",
   "pygments_lexer": "ipython3",
   "version": "3.10.11"
  }
 },
 "nbformat": 4,
 "nbformat_minor": 5
}
